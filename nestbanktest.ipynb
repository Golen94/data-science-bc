{
  "nbformat": 4,
  "nbformat_minor": 0,
  "metadata": {
    "colab": {
      "provenance": [],
      "authorship_tag": "ABX9TyMvMZ30NPSJvAwJzIHJtMmL",
      "include_colab_link": true
    },
    "kernelspec": {
      "name": "python3",
      "display_name": "Python 3"
    },
    "language_info": {
      "name": "python"
    }
  },
  "cells": [
    {
      "cell_type": "markdown",
      "metadata": {
        "id": "view-in-github",
        "colab_type": "text"
      },
      "source": [
        "<a href=\"https://colab.research.google.com/github/Golen94/data-science-bc/blob/main/nestbanktest.ipynb\" target=\"_parent\"><img src=\"https://colab.research.google.com/assets/colab-badge.svg\" alt=\"Open In Colab\"/></a>"
      ]
    },
    {
      "cell_type": "code",
      "execution_count": 1,
      "metadata": {
        "colab": {
          "base_uri": "https://localhost:8080/"
        },
        "id": "TWY1NM05MDJ8",
        "outputId": "f47a961d-54bb-4a1a-d7ad-e675596d42e5"
      },
      "outputs": [
        {
          "output_type": "execute_result",
          "data": {
            "text/plain": [
              "[10, 9, 8, 7, 6, 5, 4, 3, 2, 1]"
            ]
          },
          "metadata": {},
          "execution_count": 1
        }
      ],
      "source": [
        "list(range(1, 11))[::-1]"
      ]
    },
    {
      "cell_type": "code",
      "source": [
        "warunek_1 = True is True\n",
        "warunek_2 = \"slowo\" == \"slowo\"\n",
        "warunek_3 = 5 <= 6\n",
        "\n",
        "\n",
        "if warunek_1 and warunek_2 and warunek_3:\n",
        "    print(\"Prawda\")"
      ],
      "metadata": {
        "colab": {
          "base_uri": "https://localhost:8080/"
        },
        "id": "MHnTRFOmMEbN",
        "outputId": "503aa590-cee1-4fa1-f837-6e939cd53447"
      },
      "execution_count": 2,
      "outputs": [
        {
          "output_type": "stream",
          "name": "stdout",
          "text": [
            "Prawda\n"
          ]
        }
      ]
    },
    {
      "cell_type": "code",
      "source": [
        "class Budynek:\n",
        "    def __init__(self):\n",
        "        self.instancja_podklasy = Pomieszczenie()\n",
        "\n",
        "    def podaj_podklase(self):\n",
        "        return self.instancja_podklasy\n",
        "\n",
        "\n",
        "class Pomieszczenie:\n",
        "    def podaj_imie(self):\n",
        "        return \"Łukasz\"\n",
        "\n",
        "    def podaj_nazwisko(self):\n",
        "        return \"Nowak\"\n",
        "\n",
        "\n",
        "cokolwiek = Budynek()\n",
        "cokolwiek.podaj_podklase().podaj_imie()\n"
      ],
      "metadata": {
        "colab": {
          "base_uri": "https://localhost:8080/",
          "height": 35
        },
        "id": "0N089ctMMNeH",
        "outputId": "574bf25a-8752-46d8-f45c-2a3446a0ad61"
      },
      "execution_count": 3,
      "outputs": [
        {
          "output_type": "execute_result",
          "data": {
            "text/plain": [
              "'Łukasz'"
            ],
            "application/vnd.google.colaboratory.intrinsic+json": {
              "type": "string"
            }
          },
          "metadata": {},
          "execution_count": 3
        }
      ]
    },
    {
      "cell_type": "code",
      "source": [
        "check = 'From Jan.Nowak@nestbank.pl Poniedzialek Styczen  5'\n",
        "res = check.split()\n",
        "print(res[3])\n"
      ],
      "metadata": {
        "colab": {
          "base_uri": "https://localhost:8080/"
        },
        "id": "p6sHFJJ6MVcM",
        "outputId": "a24ce236-7cad-412d-e02a-79a02315ebb6"
      },
      "execution_count": 5,
      "outputs": [
        {
          "output_type": "stream",
          "name": "stdout",
          "text": [
            "Styczen\n"
          ]
        }
      ]
    },
    {
      "cell_type": "code",
      "source": [
        "counts = dict()\n",
        "names = ['mateusz','tomek','mateusz','adam','tomek']\n",
        "for name in names:\n",
        "    counts[name]=counts.get(name,0) + 1\n",
        "print(counts)"
      ],
      "metadata": {
        "colab": {
          "base_uri": "https://localhost:8080/"
        },
        "id": "dqQ5G-ByMrZg",
        "outputId": "8e9b3003-98b0-4b57-c0d6-6fd17d84800a"
      },
      "execution_count": 6,
      "outputs": [
        {
          "output_type": "stream",
          "name": "stdout",
          "text": [
            "{'mateusz': 2, 'tomek': 2, 'adam': 1}\n"
          ]
        }
      ]
    },
    {
      "cell_type": "code",
      "source": [],
      "metadata": {
        "id": "eZYEP1ijM0a6"
      },
      "execution_count": null,
      "outputs": []
    }
  ]
}